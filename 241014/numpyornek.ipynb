{
 "cells": [
  {
   "cell_type": "markdown",
   "id": "3e4e3afe-4658-4bc4-acf4-5a1b709e2e00",
   "metadata": {},
   "source": [
    "**numpy dizi işlemleri**"
   ]
  },
  {
   "cell_type": "code",
   "execution_count": 11,
   "id": "7e674dc9-fad9-4a0f-a063-ab02cc9d82aa",
   "metadata": {},
   "outputs": [],
   "source": [
    "import numpy as np #numpy kutuphanesini np takma adi ile projeye dahil ediyoruz"
   ]
  },
  {
   "cell_type": "code",
   "execution_count": 43,
   "id": "a48d074a-033a-4880-bc61-de8ee0f90872",
   "metadata": {},
   "outputs": [
    {
     "data": {
      "text/plain": [
       "array([[5, 5, 5],\n",
       "       [5, 5, 5],\n",
       "       [5, 5, 5],\n",
       "       [5, 5, 5]])"
      ]
     },
     "execution_count": 43,
     "metadata": {},
     "output_type": "execute_result"
    }
   ],
   "source": [
    "dizi=np.full((4,3),5)#4satır 3sutunluk 5ten olusan dizi\n",
    "dizi"
   ]
  },
  {
   "cell_type": "code",
   "execution_count": 3,
   "id": "5f34c3bb-3fdd-484b-b085-d9df1bf54abd",
   "metadata": {},
   "outputs": [
    {
     "data": {
      "text/plain": [
       "array([1, 2, 3])"
      ]
     },
     "execution_count": 3,
     "metadata": {},
     "output_type": "execute_result"
    }
   ],
   "source": [
    "#yeni bir numpy dizisi olusturuyoruz\n",
    "np.array([1,2,3])"
   ]
  },
  {
   "cell_type": "code",
   "execution_count": 4,
   "id": "710a9af0-84a6-4d51-8c11-3f00131cd7ad",
   "metadata": {},
   "outputs": [],
   "source": [
    "#olusturdugumuz diziyi bir degiskene aktarvryoruz\n",
    "dizi=np.array([\"elma\", \"erik\", \"igde\"])"
   ]
  },
  {
   "cell_type": "code",
   "execution_count": 5,
   "id": "cfb76b2f-df29-48ae-b7f7-677aa1f88004",
   "metadata": {},
   "outputs": [
    {
     "data": {
      "text/plain": [
       "array(['elma', 'erik', 'igde'], dtype='<U4')"
      ]
     },
     "execution_count": 5,
     "metadata": {},
     "output_type": "execute_result"
    }
   ],
   "source": [
    "dizi"
   ]
  },
  {
   "cell_type": "code",
   "execution_count": 6,
   "id": "8a2fcf86-fe15-4b57-9804-94e8b93975c6",
   "metadata": {},
   "outputs": [],
   "source": [
    "dizi=np.array([1,2,3])"
   ]
  },
  {
   "cell_type": "code",
   "execution_count": 7,
   "id": "1e859104-389f-4486-8510-6c728186da81",
   "metadata": {},
   "outputs": [],
   "source": [
    "dizi=np.array([1,2,3.14])"
   ]
  },
  {
   "cell_type": "code",
   "execution_count": 8,
   "id": "e6c2a62b-b229-49e0-970a-c76b1e0dc567",
   "metadata": {},
   "outputs": [
    {
     "data": {
      "text/plain": [
       "dtype('float64')"
      ]
     },
     "execution_count": 8,
     "metadata": {},
     "output_type": "execute_result"
    }
   ],
   "source": [
    "dizi.dtype #dizinin degisken turunu verir. numpy dizilerinde elemanLlarin hepst aynri turdendir"
   ]
  },
  {
   "cell_type": "code",
   "execution_count": 9,
   "id": "243d45bf-663e-4a87-b120-9da5d09c7759",
   "metadata": {},
   "outputs": [],
   "source": [
    "dizi=np.array([1,2,3.14], dtype=int)"
   ]
  },
  {
   "cell_type": "markdown",
   "id": "888bc0ef-f2e9-42d7-8b3a-c8dfa6c84480",
   "metadata": {},
   "source": [
    "**numpy ile farkli boyutlarda dizi olusturma**"
   ]
  },
  {
   "cell_type": "code",
   "execution_count": 13,
   "id": "79baeccf-50f0-463d-a108-58bb9c631525",
   "metadata": {},
   "outputs": [],
   "source": [
    "#bir boyutlu dizi olusturma\n",
    "birboyut=np.array([1,2,3,4])\n",
    "#ikt boyutlu dizi olusturma\n",
    "ikiboyut=np.array([[1,2,3,4],[5,6,7,8],[9,10,11,12]])"
   ]
  },
  {
   "cell_type": "code",
   "execution_count": 14,
   "id": "1c41c550-caaf-4c1c-9792-88a80a449b23",
   "metadata": {},
   "outputs": [
    {
     "data": {
      "text/plain": [
       "array([1, 2, 3, 4])"
      ]
     },
     "execution_count": 14,
     "metadata": {},
     "output_type": "execute_result"
    }
   ],
   "source": [
    "birboyut"
   ]
  },
  {
   "cell_type": "code",
   "execution_count": 15,
   "id": "3000b14a-98b3-4251-8a43-05e26de47fa5",
   "metadata": {},
   "outputs": [
    {
     "data": {
      "text/plain": [
       "array([[ 1,  2,  3,  4],\n",
       "       [ 5,  6,  7,  8],\n",
       "       [ 9, 10, 11, 12]])"
      ]
     },
     "execution_count": 15,
     "metadata": {},
     "output_type": "execute_result"
    }
   ],
   "source": [
    "ikiboyut"
   ]
  },
  {
   "cell_type": "markdown",
   "id": "5f275237-043f-46ed-ae2a-269d5c26d7c3",
   "metadata": {},
   "source": [
    "**numpy yer tutucular**"
   ]
  },
  {
   "cell_type": "code",
   "execution_count": 16,
   "id": "a2474b45-3f9a-4b61-82f4-442c6a2fc587",
   "metadata": {},
   "outputs": [
    {
     "data": {
      "text/plain": [
       "array([0., 0., 0., 0., 0., 0., 0.])"
      ]
     },
     "execution_count": 16,
     "metadata": {},
     "output_type": "execute_result"
    }
   ],
   "source": [
    "np.zeros(7) #7 s1iftrdan olusan tek boyutLlu dizi olusturur"
   ]
  },
  {
   "cell_type": "code",
   "execution_count": 17,
   "id": "2c289c8c-e208-44b2-93c7-d9ed4bf615f8",
   "metadata": {},
   "outputs": [
    {
     "data": {
      "text/plain": [
       "array([[0, 0, 0],\n",
       "       [0, 0, 0]])"
      ]
     },
     "execution_count": 17,
     "metadata": {},
     "output_type": "execute_result"
    }
   ],
   "source": [
    "np.zeros((2,3),dtype=int)#* sıfırdan olusan 2 boyutlu int dizi olusturur"
   ]
  },
  {
   "cell_type": "code",
   "execution_count": 18,
   "id": "94902c92-6805-4c02-91cf-830a2b5cea16",
   "metadata": {},
   "outputs": [
    {
     "data": {
      "text/plain": [
       "array([1., 1., 1.])"
      ]
     },
     "execution_count": 18,
     "metadata": {},
     "output_type": "execute_result"
    }
   ],
   "source": [
    "np.ones(3)"
   ]
  },
  {
   "cell_type": "code",
   "execution_count": 19,
   "id": "c29fd363-a472-4016-af97-0667de215e62",
   "metadata": {},
   "outputs": [
    {
     "data": {
      "text/plain": [
       "array([[5, 5, 5],\n",
       "       [5, 5, 5],\n",
       "       [5, 5, 5],\n",
       "       [5, 5, 5]])"
      ]
     },
     "execution_count": 19,
     "metadata": {},
     "output_type": "execute_result"
    }
   ],
   "source": [
    "np.full((4,3),5)#5 sayisindan olusan 2*3 Luk dizi"
   ]
  },
  {
   "cell_type": "code",
   "execution_count": 20,
   "id": "790cfa49-3db9-4eba-8a52-be2f797dd647",
   "metadata": {},
   "outputs": [
    {
     "data": {
      "text/plain": [
       "array([ 2,  7, 12, 17])"
      ]
     },
     "execution_count": 20,
     "metadata": {},
     "output_type": "execute_result"
    }
   ],
   "source": [
    "np.arange(2,22,5)#baslangic,bitis ve artis degerine gore dizi olusturma"
   ]
  },
  {
   "cell_type": "code",
   "execution_count": 21,
   "id": "b4671984-32ad-45de-a9d5-e47cfe0661ec",
   "metadata": {},
   "outputs": [
    {
     "data": {
      "text/plain": [
       "array([ 2.        ,  3.33333333,  4.66666667,  6.        ,  7.33333333,\n",
       "        8.66666667, 10.        ])"
      ]
     },
     "execution_count": 21,
     "metadata": {},
     "output_type": "execute_result"
    }
   ],
   "source": [
    "np.linspace(2,10,num=7) #baslangic¢c ve bitis degeri araliginda belirtilen miktarda esit aralik"
   ]
  },
  {
   "cell_type": "code",
   "execution_count": 22,
   "id": "7c6f68cb-feaf-4e84-a07a-836400d108a1",
   "metadata": {},
   "outputs": [
    {
     "data": {
      "text/plain": [
       "array([8, 4, 2, 2, 0])"
      ]
     },
     "execution_count": 22,
     "metadata": {},
     "output_type": "execute_result"
    }
   ],
   "source": [
    "np.random.randint(0,10,5)#@-1@ aral1ginda rastgele 5 sayidan olusan bir boyutlu dizi"
   ]
  },
  {
   "cell_type": "markdown",
   "id": "d5d9dcab-9d92-485d-bfba-2e9d6fa68280",
   "metadata": {},
   "source": [
    "**diziler ile ilgili islemler**"
   ]
  },
  {
   "cell_type": "code",
   "execution_count": 23,
   "id": "d4ddbd23-6799-4b9d-9833-77e1fe5eeb42",
   "metadata": {},
   "outputs": [
    {
     "data": {
      "text/plain": [
       "(3, 4)"
      ]
     },
     "execution_count": 23,
     "metadata": {},
     "output_type": "execute_result"
    }
   ],
   "source": [
    "#dizilerin eleman sayisinr Ogrenmek t¢in shape komutu kuLllanilir\n",
    "dizi=np.array([[1,2,3,4],[5,6,7,8],[9,10,11,12]])\n",
    "dizi.shape"
   ]
  },
  {
   "cell_type": "code",
   "execution_count": 24,
   "id": "d6243256-65a8-40f3-a170-ed8c140d8319",
   "metadata": {},
   "outputs": [
    {
     "data": {
      "text/plain": [
       "2"
      ]
     },
     "execution_count": 24,
     "metadata": {},
     "output_type": "execute_result"
    }
   ],
   "source": [
    "#ndim dizi boyutunu ogrenmek i¢in kullanilir\n",
    "dizi.ndim"
   ]
  },
  {
   "cell_type": "code",
   "execution_count": 25,
   "id": "8e8dd744-1c32-45ae-bd98-57de813894aa",
   "metadata": {},
   "outputs": [
    {
     "data": {
      "text/plain": [
       "12"
      ]
     },
     "execution_count": 25,
     "metadata": {},
     "output_type": "execute_result"
    }
   ],
   "source": [
    "#s1ze dizidekt toplLam eleman sayirsini gosterir\n",
    "dizi.size"
   ]
  },
  {
   "cell_type": "code",
   "execution_count": 26,
   "id": "e5db8dc4-f04e-4b9a-a7dd-4a032793f1e1",
   "metadata": {},
   "outputs": [
    {
     "data": {
      "text/plain": [
       "4"
      ]
     },
     "execution_count": 26,
     "metadata": {},
     "output_type": "execute_result"
    }
   ],
   "source": [
    "dizi.itemsize #dizidekit her bir elemanin bayt cinsinden degerini verir"
   ]
  },
  {
   "cell_type": "markdown",
   "id": "254aa015-eb83-4224-9312-3c7efc5fdc12",
   "metadata": {},
   "source": [
    "**5satır 7sütun olacak şekilde rastgele sayılardan oluşan int türünde bir dizi oluşturma.**"
   ]
  },
  {
   "cell_type": "code",
   "execution_count": 42,
   "id": "c690843b-5e7f-4885-973a-aad91a94a47a",
   "metadata": {},
   "outputs": [
    {
     "data": {
      "text/plain": [
       "array([[16,  7, 14,  3, 14,  5, 10],\n",
       "       [13, 15, 11, 16,  9, 18, 10],\n",
       "       [16, 13, 10,  8,  1,  4,  9],\n",
       "       [ 4,  5, 17,  5,  0,  9,  8],\n",
       "       [10,  4,  1,  6,  8, 14,  1]])"
      ]
     },
     "execution_count": 42,
     "metadata": {},
     "output_type": "execute_result"
    }
   ],
   "source": [
    "dizi = np.random.randint(0,20, size=(5, 7),dtype=int)\n",
    "dizi"
   ]
  }
 ],
 "metadata": {
  "kernelspec": {
   "display_name": "Python 3 (ipykernel)",
   "language": "python",
   "name": "python3"
  },
  "language_info": {
   "codemirror_mode": {
    "name": "ipython",
    "version": 3
   },
   "file_extension": ".py",
   "mimetype": "text/x-python",
   "name": "python",
   "nbconvert_exporter": "python",
   "pygments_lexer": "ipython3",
   "version": "3.11.7"
  }
 },
 "nbformat": 4,
 "nbformat_minor": 5
}
